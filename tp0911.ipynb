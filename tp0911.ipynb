{
 "cells": [
  {
   "cell_type": "markdown",
   "metadata": {},
   "source": [
    "Definição do modelo"
   ]
  },
  {
   "cell_type": "markdown",
   "metadata": {},
   "source": [
    "x^2 + 2\n",
    "7x^3 + 4x - 21"
   ]
  },
  {
   "cell_type": "markdown",
   "metadata": {},
   "source": [
    "Construtor"
   ]
  },
  {
   "cell_type": "code",
   "execution_count": 20,
   "metadata": {},
   "outputs": [],
   "source": [
    "def menu():\n",
    "     print(\"\"\"Frações e listas de frações:\n",
    "          \n",
    "            (1)Criar Polinómio \n",
    "            (2)Calcular Polínomio \n",
    "            (3)Calcular Tabela \n",
    "            (4)Simplificar Polinómio \n",
    "            (5)Calcular derivada do polinómio \n",
    "            (0)sair\n",
    "          ...\n",
    "          (0)Sair.\"\"\")"
   ]
  },
  {
   "cell_type": "code",
   "execution_count": 24,
   "metadata": {},
   "outputs": [
    {
     "name": "stdout",
     "output_type": "stream",
     "text": [
      "tamanho3\n",
      "Coeficiente2\n",
      "expoente3\n",
      "Coeficiente4\n",
      "expoente6\n",
      "Coeficiente2\n",
      "expoente3\n",
      "[(2, 3), (4, 6), (2, 3)]\n"
     ]
    }
   ],
   "source": [
    "l=[]\n",
    "lista=int(input(\"tamanho\"))\n",
    "def criarTermo():\n",
    "    for i in range(lista):\n",
    "        coef=int(input(\"Coeficiente\"))\n",
    "        exp=int(input(\"expoente\"))\n",
    "        p=(coef,exp)\n",
    "        l.append(p)\n",
    "    return p\n",
    "\n",
    "criarTermo()\n",
    "print(l)"
   ]
  },
  {
   "cell_type": "code",
   "execution_count": 25,
   "metadata": {},
   "outputs": [],
   "source": [
    "def verTermo(p):\n",
    "    c, e = p\n",
    "    if e==0:\n",
    "        return str(c)\n",
    "    else:\n",
    "        return (str(c)+\"x^\"+str(e))\n",
    "    \n",
    "def verPolinomio(l):\n",
    "    res = \"\"\n",
    "    for p in l:\n",
    "        if res == '':\n",
    "            res = verTermo(p)\n",
    "        else:\n",
    "            res = res + \" + \" + verTermo(p)\n",
    "    print(res)   \n",
    "        \n",
    "        "
   ]
  },
  {
   "cell_type": "code",
   "execution_count": 26,
   "metadata": {},
   "outputs": [
    {
     "name": "stdout",
     "output_type": "stream",
     "text": [
      "2x^3 + 4x^6 + 2x^3\n"
     ]
    }
   ],
   "source": [
    "verPolinomio(l)"
   ]
  },
  {
   "cell_type": "code",
   "execution_count": 27,
   "metadata": {},
   "outputs": [],
   "source": [
    "def calcPol(l,x):\n",
    "    res=0\n",
    "    for p in l:\n",
    "        c, e = p\n",
    "        res=res+(c*(x**e))\n",
    "    return res"
   ]
  },
  {
   "cell_type": "code",
   "execution_count": 28,
   "metadata": {},
   "outputs": [],
   "source": [
    "def tabela (l, n):\n",
    "    print(\"X: \",\"Y\")\n",
    "    for x in range(n+1):\n",
    "        print (str(x),'::',str(calcPol(l,x)))"
   ]
  },
  {
   "cell_type": "code",
   "execution_count": 29,
   "metadata": {},
   "outputs": [
    {
     "name": "stdout",
     "output_type": "stream",
     "text": [
      "Número22\n",
      "X:  Y\n",
      "0 :: 0\n",
      "1 :: 8\n",
      "2 :: 288\n",
      "3 :: 3024\n",
      "4 :: 16640\n",
      "5 :: 63000\n",
      "6 :: 187488\n",
      "7 :: 471968\n",
      "8 :: 1050624\n",
      "9 :: 2128680\n",
      "10 :: 4004000\n",
      "11 :: 7091568\n",
      "12 :: 11950848\n",
      "13 :: 19316024\n",
      "14 :: 30129120\n",
      "15 :: 45576000\n",
      "16 :: 67125248\n",
      "17 :: 96569928\n",
      "18 :: 136072224\n",
      "19 :: 188210960\n",
      "20 :: 256032000\n",
      "21 :: 343101528\n",
      "22 :: 453562208\n"
     ]
    }
   ],
   "source": [
    "q=int(input(\"Número\"))\n",
    "tabela(l,q)"
   ]
  },
  {
   "cell_type": "code",
   "execution_count": 30,
   "metadata": {},
   "outputs": [
    {
     "name": "stdout",
     "output_type": "stream",
     "text": [
      "[(2, 3), (4, 6), (2, 3)]\n",
      "[(4, 6), (2, 3), (2, 3)]\n",
      "4x^6 + 2x^3 + 2x^3\n"
     ]
    }
   ],
   "source": [
    "def chaveOrd(p):\n",
    "    _,e=p\n",
    "    return e\n",
    "        \n",
    "def ordenarPol(l):\n",
    "    l.sort(reverse=True, key=chaveOrd)\n",
    "print(l)\n",
    "ordenarPol(l)\n",
    "print(l)\n",
    "verPolinomio(l)\n",
    "        "
   ]
  },
  {
   "cell_type": "code",
   "execution_count": 45,
   "metadata": {},
   "outputs": [
    {
     "ename": "TypeError",
     "evalue": "criarTermo() takes 0 positional arguments but 2 were given",
     "output_type": "error",
     "traceback": [
      "\u001b[1;31m---------------------------------------------------------------------------\u001b[0m",
      "\u001b[1;31mTypeError\u001b[0m                                 Traceback (most recent call last)",
      "\u001b[1;32m<ipython-input-45-93b0dec67386>\u001b[0m in \u001b[0;36m<module>\u001b[1;34m\u001b[0m\n\u001b[0;32m     14\u001b[0m                     \u001b[0mcriarTermo\u001b[0m\u001b[1;33m(\u001b[0m\u001b[0mresLista\u001b[0m\u001b[1;33m(\u001b[0m\u001b[0mc\u001b[0m\u001b[1;33m,\u001b[0m\u001b[0me\u001b[0m\u001b[1;33m)\u001b[0m\u001b[1;33m)\u001b[0m\u001b[1;33m\u001b[0m\u001b[1;33m\u001b[0m\u001b[0m\n\u001b[0;32m     15\u001b[0m \u001b[1;33m\u001b[0m\u001b[0m\n\u001b[1;32m---> 16\u001b[1;33m \u001b[0msimplificarPol\u001b[0m\u001b[1;33m(\u001b[0m\u001b[0ml\u001b[0m\u001b[1;33m)\u001b[0m\u001b[1;33m\u001b[0m\u001b[1;33m\u001b[0m\u001b[0m\n\u001b[0m",
      "\u001b[1;32m<ipython-input-45-93b0dec67386>\u001b[0m in \u001b[0;36msimplificarPol\u001b[1;34m(l)\u001b[0m\n\u001b[0;32m     10\u001b[0m             \u001b[1;32mif\u001b[0m \u001b[0me0\u001b[0m\u001b[1;33m>\u001b[0m\u001b[0me\u001b[0m\u001b[1;33m:\u001b[0m\u001b[1;33m\u001b[0m\u001b[1;33m\u001b[0m\u001b[0m\n\u001b[0;32m     11\u001b[0m                 \u001b[1;32mif\u001b[0m \u001b[0mi\u001b[0m\u001b[1;33m==\u001b[0m\u001b[1;36m1\u001b[0m\u001b[1;33m:\u001b[0m\u001b[1;33m\u001b[0m\u001b[1;33m\u001b[0m\u001b[0m\n\u001b[1;32m---> 12\u001b[1;33m                     \u001b[0mcriarTermo\u001b[0m\u001b[1;33m(\u001b[0m\u001b[0mresLista\u001b[0m\u001b[1;33m,\u001b[0m\u001b[1;33m(\u001b[0m\u001b[0mc0\u001b[0m\u001b[1;33m,\u001b[0m\u001b[0me0\u001b[0m\u001b[1;33m)\u001b[0m\u001b[1;33m)\u001b[0m\u001b[1;33m\u001b[0m\u001b[1;33m\u001b[0m\u001b[0m\n\u001b[0m\u001b[0;32m     13\u001b[0m                 \u001b[1;32melse\u001b[0m\u001b[1;33m:\u001b[0m\u001b[1;33m\u001b[0m\u001b[1;33m\u001b[0m\u001b[0m\n\u001b[0;32m     14\u001b[0m                     \u001b[0mcriarTermo\u001b[0m\u001b[1;33m(\u001b[0m\u001b[0mresLista\u001b[0m\u001b[1;33m(\u001b[0m\u001b[0mc\u001b[0m\u001b[1;33m,\u001b[0m\u001b[0me\u001b[0m\u001b[1;33m)\u001b[0m\u001b[1;33m)\u001b[0m\u001b[1;33m\u001b[0m\u001b[1;33m\u001b[0m\u001b[0m\n",
      "\u001b[1;31mTypeError\u001b[0m: criarTermo() takes 0 positional arguments but 2 were given"
     ]
    }
   ],
   "source": [
    "def simplificarPol(l):\n",
    "    ordenarPol(l)\n",
    "    resLista=[]\n",
    "    for i in range(1,len(l)):\n",
    "        c,e=l[i]\n",
    "        c0,e0=l[i-1]\n",
    "        if e0==e:\n",
    "            criarTermo(resLista,(c+c0,e))\n",
    "        else:\n",
    "            if e0>e:\n",
    "                if i==1:\n",
    "                    criarTermo(resLista,(c0,e0))\n",
    "                else:\n",
    "                    criarTermo(resLista(c,e))\n",
    "                    \n",
    "simplificarPol(l)"
   ]
  },
  {
   "cell_type": "code",
   "execution_count": 18,
   "metadata": {},
   "outputs": [],
   "source": [
    "def derivarPol(l):\n",
    "    res= []\n",
    "    for p in l:\n",
    "        c, e = p\n",
    "        if e>0:\n",
    "            res.append((c*e, e-1))\n",
    "    return res\n",
    "    "
   ]
  },
  {
   "cell_type": "code",
   "execution_count": 19,
   "metadata": {},
   "outputs": [
    {
     "name": "stdout",
     "output_type": "stream",
     "text": [
      "4x^5 + 2x^4 + 2x^3 + 2x^3 + 1x^2\n",
      "20x^4 + 8x^3 + 6x^2 + 6x^2 + 2x^1\n"
     ]
    }
   ],
   "source": [
    "verPolinomio(l)\n",
    "d=derivarPol(l)\n",
    "verPolinomio(d)"
   ]
  },
  {
   "cell_type": "code",
   "execution_count": 46,
   "metadata": {},
   "outputs": [
    {
     "name": "stdout",
     "output_type": "stream",
     "text": [
      "Frações e listas de frações:\n",
      "          \n",
      "            (1)Criar Polinómio \n",
      "            (2)Calcular Polínomio \n",
      "            (3)Calcular Tabela \n",
      "            (4)Simplificar Polinómio \n",
      "            (5)Calcular derivada do polinómio \n",
      "            (0)sair\n",
      "          ...\n",
      "          (0)Sair.\n",
      "Qual a sua opção?1\n",
      "Coeficiente2\n",
      "expoente3\n",
      "Coeficiente4\n",
      "expoente2\n",
      "Coeficiente1\n",
      "expoente2\n"
     ]
    },
    {
     "ename": "TypeError",
     "evalue": "cannot unpack non-iterable int object",
     "output_type": "error",
     "traceback": [
      "\u001b[1;31m---------------------------------------------------------------------------\u001b[0m",
      "\u001b[1;31mTypeError\u001b[0m                                 Traceback (most recent call last)",
      "\u001b[1;32m<ipython-input-46-e2348c8ba089>\u001b[0m in \u001b[0;36m<module>\u001b[1;34m\u001b[0m\n\u001b[0;32m      5\u001b[0m     \u001b[1;32mif\u001b[0m \u001b[0ma\u001b[0m\u001b[1;33m==\u001b[0m\u001b[1;34m\"1\"\u001b[0m\u001b[1;33m:\u001b[0m\u001b[1;33m\u001b[0m\u001b[1;33m\u001b[0m\u001b[0m\n\u001b[0;32m      6\u001b[0m         \u001b[0ml\u001b[0m\u001b[1;33m=\u001b[0m\u001b[0mcriarTermo\u001b[0m\u001b[1;33m(\u001b[0m\u001b[1;33m)\u001b[0m\u001b[1;33m\u001b[0m\u001b[1;33m\u001b[0m\u001b[0m\n\u001b[1;32m----> 7\u001b[1;33m         \u001b[0mverPolinomio\u001b[0m\u001b[1;33m(\u001b[0m\u001b[0ml\u001b[0m\u001b[1;33m)\u001b[0m\u001b[1;33m\u001b[0m\u001b[1;33m\u001b[0m\u001b[0m\n\u001b[0m\u001b[0;32m      8\u001b[0m     \u001b[1;32melif\u001b[0m \u001b[0ma\u001b[0m\u001b[1;33m==\u001b[0m\u001b[1;34m\"2\"\u001b[0m\u001b[1;33m:\u001b[0m\u001b[1;33m\u001b[0m\u001b[1;33m\u001b[0m\u001b[0m\n\u001b[0;32m      9\u001b[0m         \u001b[0ml\u001b[0m\u001b[1;33m=\u001b[0m\u001b[0mcalcPol\u001b[0m\u001b[1;33m(\u001b[0m\u001b[0ml\u001b[0m\u001b[1;33m,\u001b[0m\u001b[0mx\u001b[0m\u001b[1;33m)\u001b[0m\u001b[1;33m\u001b[0m\u001b[1;33m\u001b[0m\u001b[0m\n",
      "\u001b[1;32m<ipython-input-25-02bacb9e7ead>\u001b[0m in \u001b[0;36mverPolinomio\u001b[1;34m(l)\u001b[0m\n\u001b[0;32m     10\u001b[0m     \u001b[1;32mfor\u001b[0m \u001b[0mp\u001b[0m \u001b[1;32min\u001b[0m \u001b[0ml\u001b[0m\u001b[1;33m:\u001b[0m\u001b[1;33m\u001b[0m\u001b[1;33m\u001b[0m\u001b[0m\n\u001b[0;32m     11\u001b[0m         \u001b[1;32mif\u001b[0m \u001b[0mres\u001b[0m \u001b[1;33m==\u001b[0m \u001b[1;34m''\u001b[0m\u001b[1;33m:\u001b[0m\u001b[1;33m\u001b[0m\u001b[1;33m\u001b[0m\u001b[0m\n\u001b[1;32m---> 12\u001b[1;33m             \u001b[0mres\u001b[0m \u001b[1;33m=\u001b[0m \u001b[0mverTermo\u001b[0m\u001b[1;33m(\u001b[0m\u001b[0mp\u001b[0m\u001b[1;33m)\u001b[0m\u001b[1;33m\u001b[0m\u001b[1;33m\u001b[0m\u001b[0m\n\u001b[0m\u001b[0;32m     13\u001b[0m         \u001b[1;32melse\u001b[0m\u001b[1;33m:\u001b[0m\u001b[1;33m\u001b[0m\u001b[1;33m\u001b[0m\u001b[0m\n\u001b[0;32m     14\u001b[0m             \u001b[0mres\u001b[0m \u001b[1;33m=\u001b[0m \u001b[0mres\u001b[0m \u001b[1;33m+\u001b[0m \u001b[1;34m\" + \"\u001b[0m \u001b[1;33m+\u001b[0m \u001b[0mverTermo\u001b[0m\u001b[1;33m(\u001b[0m\u001b[0mp\u001b[0m\u001b[1;33m)\u001b[0m\u001b[1;33m\u001b[0m\u001b[1;33m\u001b[0m\u001b[0m\n",
      "\u001b[1;32m<ipython-input-25-02bacb9e7ead>\u001b[0m in \u001b[0;36mverTermo\u001b[1;34m(p)\u001b[0m\n\u001b[0;32m      1\u001b[0m \u001b[1;32mdef\u001b[0m \u001b[0mverTermo\u001b[0m\u001b[1;33m(\u001b[0m\u001b[0mp\u001b[0m\u001b[1;33m)\u001b[0m\u001b[1;33m:\u001b[0m\u001b[1;33m\u001b[0m\u001b[1;33m\u001b[0m\u001b[0m\n\u001b[1;32m----> 2\u001b[1;33m     \u001b[0mc\u001b[0m\u001b[1;33m,\u001b[0m \u001b[0me\u001b[0m \u001b[1;33m=\u001b[0m \u001b[0mp\u001b[0m\u001b[1;33m\u001b[0m\u001b[1;33m\u001b[0m\u001b[0m\n\u001b[0m\u001b[0;32m      3\u001b[0m     \u001b[1;32mif\u001b[0m \u001b[0me\u001b[0m\u001b[1;33m==\u001b[0m\u001b[1;36m0\u001b[0m\u001b[1;33m:\u001b[0m\u001b[1;33m\u001b[0m\u001b[1;33m\u001b[0m\u001b[0m\n\u001b[0;32m      4\u001b[0m         \u001b[1;32mreturn\u001b[0m \u001b[0mstr\u001b[0m\u001b[1;33m(\u001b[0m\u001b[0mc\u001b[0m\u001b[1;33m)\u001b[0m\u001b[1;33m\u001b[0m\u001b[1;33m\u001b[0m\u001b[0m\n\u001b[0;32m      5\u001b[0m     \u001b[1;32melse\u001b[0m\u001b[1;33m:\u001b[0m\u001b[1;33m\u001b[0m\u001b[1;33m\u001b[0m\u001b[0m\n",
      "\u001b[1;31mTypeError\u001b[0m: cannot unpack non-iterable int object"
     ]
    }
   ],
   "source": [
    "a=-1\n",
    "while a!= \"0\":\n",
    "    menu()\n",
    "    a=input(\"Qual a sua opção?\")\n",
    "    if a==\"1\":\n",
    "        l=criarTermo()\n",
    "        verPolinomio(l)\n",
    "    elif a==\"2\":\n",
    "        l=calcPol(l,x)\n",
    "        verPolinomio(l)\n",
    "    elif a==\"3\":\n",
    "        l=tabela (l, n)\n",
    "    elif a==\"4\":\n",
    "        l=simplificarPol(l,x)\n",
    "        verPolinomio(l)\n",
    "    elif a==\"5\":\n",
    "        l=derivarPol(l)\n",
    "        verPolinomio(l)\n",
    "    elif a== \"0\":\n",
    "        print(\"A sair...\")\n",
    "    else:\n",
    "        print(\"Opção inválida!\")"
   ]
  },
  {
   "cell_type": "code",
   "execution_count": null,
   "metadata": {},
   "outputs": [],
   "source": []
  }
 ],
 "metadata": {
  "kernelspec": {
   "display_name": "Python 3",
   "language": "python",
   "name": "python3"
  },
  "language_info": {
   "codemirror_mode": {
    "name": "ipython",
    "version": 3
   },
   "file_extension": ".py",
   "mimetype": "text/x-python",
   "name": "python",
   "nbconvert_exporter": "python",
   "pygments_lexer": "ipython3",
   "version": "3.8.3"
  }
 },
 "nbformat": 4,
 "nbformat_minor": 4
}
