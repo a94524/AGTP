{
 "cells": [
  {
   "cell_type": "markdown",
   "metadata": {},
   "source": [
    "# TPC3"
   ]
  },
  {
   "cell_type": "markdown",
   "metadata": {},
   "source": [
    "## Frações"
   ]
  },
  {
   "cell_type": "markdown",
   "metadata": {},
   "source": [
    "* __Data início__: 2021-11-03\n",
    "* __Data fim__:2012-11-05\n",
    "* __Supervisor__: José Carlos Ramalho, https://www.di.uminho.pt/~jcr/index.html\n",
    "* __Autor__: Alexandra Cordeiro, A94524\n",
    "* __Resumo__:O código realizado tem como objetivo criar frações e fazer várias opereções com estas."
   ]
  },
  {
   "cell_type": "code",
   "execution_count": 207,
   "metadata": {},
   "outputs": [],
   "source": [
    "def menu():\n",
    "     print(\"\"\"Frações e listas de frações:\n",
    "          \n",
    "          (1)Criar fração;\n",
    "          (2)Simplificar fração;\n",
    "          (3)Somar frações;\n",
    "          (4)Subtrair frações;\n",
    "          (5)dividir frações;\n",
    "          (6)Multiplicar frações;\n",
    "          (7)Criar lista de frações aleatória;\n",
    "          (8)Cirar lista de frações maualmente;\n",
    "          (9)Simplificar frações de uma dada lista;\n",
    "          (10)Somar frações de uma lista;\n",
    "          (11)Subtrair frações de uma lista;\n",
    "          (12)Encontrar a maior fração numa lista;\n",
    "          (13)Encontrar a menor fração numa lista;\n",
    "          ...\n",
    "          (0)Sair.\"\"\")"
   ]
  },
  {
   "cell_type": "code",
   "execution_count": null,
   "metadata": {},
   "outputs": [],
   "source": [
    "num = int(input(\"Qual é o numerador?\"))\n",
    "den = int(input(\"Qual é o denominador?\"))\n",
    "def criarfracao():\n",
    "    \n",
    "    return (num , den)\n"
   ]
  },
  {
   "cell_type": "code",
   "execution_count": null,
   "metadata": {},
   "outputs": [],
   "source": [
    "def verFracao(f):\n",
    "    print(str(num)+\"/\"+str(den))\n",
    "    \n",
    "verFracao(f)"
   ]
  },
  {
   "cell_type": "code",
   "execution_count": null,
   "metadata": {},
   "outputs": [],
   "source": [
    "def mdc(a,b):\n",
    "    resto = None\n",
    "    while resto != 0:\n",
    "        resto = a % b\n",
    "        a  = b\n",
    "        b  = resto\n",
    "\n",
    "    return a\n",
    "    \n",
    "def simplificarFracao(f):\n",
    "    num, den = f\n",
    "    a=mdc(num, den) \n",
    "    return (num/a, den/a)"
   ]
  },
  {
   "cell_type": "code",
   "execution_count": null,
   "metadata": {},
   "outputs": [],
   "source": [
    "#o resultado é a fração simplicada de f1+f2\n",
    "n1=int(input(\"n1:\"))\n",
    "d1=int(input(\"d1:\"))\n",
    "n2=int(input(\"n2:\"))\n",
    "d2=int(input(\"d2:\"))\n",
    "def somaFrac(f1,f2):\n",
    "    n1, d1 = f1\n",
    "    n2, d2 = f2\n",
    "    return simplificarFracao((n1*d2+n2*d1 ,d1*d2))\n",
    "\n",
    "somaFrac((n1,d1), (n2,d2))"
   ]
  },
  {
   "cell_type": "code",
   "execution_count": null,
   "metadata": {},
   "outputs": [],
   "source": [
    "n1=int(input(\"n1:\"))\n",
    "d1=int(input(\"d1:\"))\n",
    "n2=int(input(\"n2:\"))\n",
    "d2=int(input(\"d2:\"))\n",
    "def subtrairFrac(f1,f2):\n",
    "    n1, d1 = f1\n",
    "    n2, d2 = f2\n",
    "    return simplificarFracao((n1*d2-n2*d1 ,d1*d2))\n",
    "\n",
    "subtrairFrac((n1,d1),(n2,d2))"
   ]
  },
  {
   "cell_type": "code",
   "execution_count": null,
   "metadata": {},
   "outputs": [],
   "source": [
    "listaFrac = []\n",
    "res = (0,1)\n",
    "i=0\n",
    "while i!=0:\n",
    "    input(\"n1:\")\n",
    "    input(\"n2:\")\n",
    "    for elem in listaFrac:\n",
    "        res = somaFrac(res, elem)\n",
    "verFracao(res)"
   ]
  },
  {
   "cell_type": "code",
   "execution_count": null,
   "metadata": {},
   "outputs": [],
   "source": [
    "n1=int(input(\"n1:\"))\n",
    "d1=int(input(\"d1:\"))\n",
    "n2=int(input(\"n2:\"))\n",
    "d2=int(input(\"d2:\"))\n",
    "def multiFrac(f1,f2):\n",
    "    n1, d1 = f1\n",
    "    n2, d2 = f2\n",
    "    return simplificarFracao((n1*n2 ,d1*d2))\n",
    "\n",
    "multiFrac((n1,d1),(n2,d2))"
   ]
  },
  {
   "cell_type": "code",
   "execution_count": null,
   "metadata": {},
   "outputs": [],
   "source": [
    "n1=int(input(\"n1:\"))\n",
    "d1=int(input(\"d1:\"))\n",
    "n2=int(input(\"n2:\"))\n",
    "d2=int(input(\"d2:\"))\n",
    "def divFrac(f1,f2):\n",
    "    n1, d1 = f1\n",
    "    n2, d2 = f2\n",
    "    return simplificarFracao((n1*d2 ,d1*n2))\n",
    "\n",
    "divFrac((2,3),(2,7))"
   ]
  },
  {
   "cell_type": "code",
   "execution_count": null,
   "metadata": {},
   "outputs": [],
   "source": [
    "def criarListaA():\n",
    "    lista=[]\n",
    "    from random import randint\n",
    "    n=int(input(\"Quantas frações terá a lista?\"))\n",
    "    for i in range(n):\n",
    "        num=randint(0, 100)\n",
    "        den=randint(1,100)\n",
    "        lista.append((num,den))\n",
    "    return lista\n",
    " \n",
    "def criarListaM():\n",
    "    i=0\n",
    "    lista=[]\n",
    "    n=int(input(\"Quantas frações terá a lista?\"))\n",
    "    for i in range(n):\n",
    "        num=int(input(\"Introduza o numerador: \"))\n",
    "        den=int(input(\"Introduza o denominador: \"))\n",
    "        lista.append((num,den))\n",
    "    return lista"
   ]
  },
  {
   "cell_type": "code",
   "execution_count": null,
   "metadata": {},
   "outputs": [],
   "source": [
    "def simplificarLista(lis):\n",
    "    lis2=[]\n",
    "    for f in lis:\n",
    "        num , den=f\n",
    "        a=mdc(num,den)\n",
    "        lis2.append((num/a,den/a))\n",
    "    return lis2"
   ]
  },
  {
   "cell_type": "code",
   "execution_count": null,
   "metadata": {},
   "outputs": [],
   "source": [
    "def somarLista(lis):\n",
    "    s=(0,1)\n",
    "    for f in lis:\n",
    "        s=somaFrações(s, f)\n",
    "    return simplificarFração(s)    \n",
    "\n",
    "def subtrairLista(lis):\n",
    "    s=(0,1)\n",
    "    f=0\n",
    "    while f<len(lis):\n",
    "        s=s+ subtrairFrações(lis[f],lis[f+1])\n",
    "        f= f+2\n",
    "    return s"
   ]
  },
  {
   "cell_type": "code",
   "execution_count": null,
   "metadata": {},
   "outputs": [],
   "source": [
    "def maiorFração(lis):\n",
    "    La=tuple(lis)\n",
    "    for i in range(len(lis)):\n",
    "        num, den= lis[i]\n",
    "        a=num/den\n",
    "        lis.insert(i,a)\n",
    "        lis.remove(lis[i+1])\n",
    "   \n",
    "    maior=lis[0]\n",
    "    for f in lis:\n",
    "        if maior<f:\n",
    "            maior=f\n",
    "        else:\n",
    "            maior=maior \n",
    "    return La[lis.index(maior)]\n",
    "\n",
    "\n",
    "def menorFração(lis):\n",
    "    La=tuple(lis)\n",
    "    for i in range(len(lis)):\n",
    "        num, den= lis[i]\n",
    "        a=num/den\n",
    "        lis.insert(i,a)\n",
    "        lis.remove(lis[i+1])\n",
    "   \n",
    "    menor=lis[0]\n",
    "    for f in lis:\n",
    "        if menor<f:\n",
    "            menor=f\n",
    "        else:\n",
    "            menor=menor \n",
    "    return La[lis.index(menor)]"
   ]
  },
  {
   "cell_type": "code",
   "execution_count": null,
   "metadata": {},
   "outputs": [],
   "source": [
    "a=-1\n",
    "while a!= \"0\":\n",
    "    menu()\n",
    "    a=input(\"Qual a sua opção?\")\n",
    "    if a==\"1\":\n",
    "        f=criarfracao()\n",
    "        verFracao(f)\n",
    "    elif a==\"2\":\n",
    "        f=simplificarFracao(f)\n",
    "        verFracao(f)\n",
    "    elif a==\"3\":\n",
    "        ff=criarfracao()\n",
    "        fff=criarfracao()\n",
    "        f=somaFrac(ff, fff)\n",
    "        verFracao(f)\n",
    "    elif a==\"4\":\n",
    "        f1=criarfracao()\n",
    "        f2=criarfracao()\n",
    "        f=subtrairFrac(f1, f2)\n",
    "        verFracao(f)\n",
    "    elif a==\"5\":\n",
    "        f1=criarfracao()\n",
    "        f2=criarfracao()\n",
    "        f=divFrac(f1, f2)\n",
    "        verFracao(f)\n",
    "    elif a==\"6\":\n",
    "        f1=criarfracao()\n",
    "        f2=criarfracao()\n",
    "        f=multiFrac(f1, f2)\n",
    "        verFracao(f)\n",
    "    elif  a== \"7\":\n",
    "        lista=criarListaA()\n",
    "        print(lista)            \n",
    "    elif a==\"8\":\n",
    "        lista=criarListaM()\n",
    "        print(lista)               \n",
    "    elif a == \"9\":\n",
    "        listas=simplificarLista(lista)\n",
    "        print(listas)            \n",
    "    elif a == \"10\":\n",
    "        soma=somarLista(lista)\n",
    "        verFracao(soma)            \n",
    "    elif a== \"11\":\n",
    "        sub=subtrairLista(lista)\n",
    "        verFracao(sub)       \n",
    "    elif a== \"12\":\n",
    "        M=maiorfracao(lista)\n",
    "        verFracao(M)\n",
    "    elif a== \"13\":\n",
    "        Mm=menorfracao(lista)\n",
    "        verFracao(Mm)\n",
    "    elif a== \"0\":\n",
    "        print(\"A sair...\")\n",
    "    else:\n",
    "        print(\"Opção inválida!\")"
   ]
  },
  {
   "cell_type": "code",
   "execution_count": null,
   "metadata": {},
   "outputs": [],
   "source": []
  },
  {
   "cell_type": "code",
   "execution_count": null,
   "metadata": {},
   "outputs": [],
   "source": []
  }
 ],
 "metadata": {
  "kernelspec": {
   "display_name": "Python 3",
   "language": "python",
   "name": "python3"
  },
  "language_info": {
   "codemirror_mode": {
    "name": "ipython",
    "version": 3
   },
   "file_extension": ".py",
   "mimetype": "text/x-python",
   "name": "python",
   "nbconvert_exporter": "python",
   "pygments_lexer": "ipython3",
   "version": "3.8.3"
  }
 },
 "nbformat": 4,
 "nbformat_minor": 4
}
